{
 "cells": [
  {
   "cell_type": "code",
   "execution_count": 1,
   "metadata": {},
   "outputs": [
    {
     "name": "stdout",
     "output_type": "stream",
     "text": [
      "\u001b[33mDEPRECATION: Loading egg at /Users/lixinyue/.local/lib/python3.11/site-packages/tokenizers-0.13.4rc3-py3.11-macosx-11.1-arm64.egg is deprecated. pip 23.3 will enforce this behaviour change. A possible replacement is to use pip for package installation..\u001b[0m\u001b[33m\n",
      "\u001b[0m\u001b[33mDEPRECATION: Loading egg at /Users/lixinyue/anaconda3/lib/python3.11/site-packages/huggingface_hub-0.19.4-py3.8.egg is deprecated. pip 23.3 will enforce this behaviour change. A possible replacement is to use pip for package installation..\u001b[0m\u001b[33m\n",
      "\u001b[0mRequirement already satisfied: yt-dlp in /Users/lixinyue/anaconda3/lib/python3.11/site-packages (2025.1.26)\n"
     ]
    }
   ],
   "source": [
    "!pip install yt-dlp"
   ]
  },
  {
   "cell_type": "code",
   "execution_count": 2,
   "metadata": {},
   "outputs": [
    {
     "name": "stdout",
     "output_type": "stream",
     "text": [
      "[youtube] Extracting URL: https://www.youtube.com/watch?v=FKHL7ldZAzU\n",
      "[youtube] FKHL7ldZAzU: Downloading webpage\n",
      "[youtube] FKHL7ldZAzU: Downloading tv client config\n",
      "[youtube] FKHL7ldZAzU: Downloading player 9c6dfc4a\n",
      "[youtube] FKHL7ldZAzU: Downloading tv player API JSON\n",
      "[youtube] FKHL7ldZAzU: Downloading ios player API JSON\n",
      "[youtube] FKHL7ldZAzU: Downloading m3u8 information\n",
      "[info] FKHL7ldZAzU: Downloading 1 format(s): 135+140\n",
      "[download] Destination: Leonard Bernstein conducts Haydn Symphony No. 88 with his face (excerpt).f135.mp4\n",
      "[download] 100% of    1.66MiB in 00:00:00 at 5.78MiB/s   \n",
      "[download] Destination: Leonard Bernstein conducts Haydn Symphony No. 88 with his face (excerpt).f140.m4a\n",
      "[download] 100% of  696.60KiB in 00:00:01 at 392.43KiB/s \n",
      "[Merger] Merging formats into \"Leonard Bernstein conducts Haydn Symphony No. 88 with his face (excerpt).mp4\"\n",
      "Deleting original file Leonard Bernstein conducts Haydn Symphony No. 88 with his face (excerpt).f135.mp4 (pass -k to keep)\n",
      "Deleting original file Leonard Bernstein conducts Haydn Symphony No. 88 with his face (excerpt).f140.m4a (pass -k to keep)\n",
      "Download complete! The video is saved as an MP4 file.\n"
     ]
    }
   ],
   "source": [
    "import yt_dlp\n",
    "\n",
    "# YouTube video URL\n",
    "video_url = \"https://www.youtube.com/watch?v=FKHL7ldZAzU\"\n",
    "\n",
    "# Set options to download as MP4\n",
    "ydl_opts = {\n",
    "    'format': 'bestvideo[ext=mp4]+bestaudio[ext=m4a]/best[ext=mp4]',  # Ensures MP4 format\n",
    "    'merge_output_format': 'mp4',  # Ensure final output is MP4\n",
    "    'outtmpl': '%(title)s.mp4',  # Saves as video title\n",
    "}\n",
    "\n",
    "# Download the video\n",
    "with yt_dlp.YoutubeDL(ydl_opts) as ydl:\n",
    "    ydl.download([video_url])\n",
    "\n",
    "print(\"Download complete! The video is saved as an MP4 file.\")\n"
   ]
  },
  {
   "cell_type": "code",
   "execution_count": 6,
   "metadata": {},
   "outputs": [
    {
     "name": "stdout",
     "output_type": "stream",
     "text": [
      "Renamed 100 files and saved mapping to '/Users/lixinyue/Desktop/my-music-web-app/epidemicsound_dataset/file_mapping.json'.\n"
     ]
    }
   ],
   "source": [
    "import os\n",
    "import json\n",
    "\n",
    "def rename_mp3_files(folder_path):\n",
    "    # Ensure the folder path exists\n",
    "    if not os.path.isdir(folder_path):\n",
    "        print(f\"Error: The folder '{folder_path}' does not exist.\")\n",
    "        return\n",
    "\n",
    "    # Get all .mp3 files in the folder and sort them\n",
    "    mp3_files = sorted([f for f in os.listdir(folder_path) if f.endswith('.mp3')])\n",
    "    \n",
    "    file_mapping = {}  # Dictionary to store original-to-new filename mapping\n",
    "\n",
    "    # Rename files sequentially\n",
    "    for index, original_filename in enumerate(mp3_files, start=1):\n",
    "        original_path = os.path.join(folder_path, original_filename)\n",
    "        new_filename = f\"{index}.mp3\"\n",
    "        new_path = os.path.join(folder_path, new_filename)\n",
    "        \n",
    "        # Rename the file\n",
    "        os.rename(original_path, new_path)\n",
    "        \n",
    "        # Store mapping\n",
    "        file_mapping[original_filename] = new_filename\n",
    "\n",
    "    # Save mapping to a JSON file\n",
    "    json_path = os.path.join(folder_path, \"file_mapping.json\")\n",
    "    with open(json_path, \"w\", encoding=\"utf-8\") as json_file:\n",
    "        json.dump(file_mapping, json_file, indent=4, ensure_ascii=False)\n",
    "\n",
    "    print(f\"Renamed {len(mp3_files)} files and saved mapping to '{json_path}'.\")\n",
    "\n",
    "# Example usage\n",
    "folder_path = \"/Users/lixinyue/Desktop/my-music-web-app/epidemicsound_dataset\"  # Change this to your folder path\n",
    "rename_mp3_files(folder_path)\n"
   ]
  },
  {
   "cell_type": "code",
   "execution_count": null,
   "metadata": {},
   "outputs": [],
   "source": []
  }
 ],
 "metadata": {
  "kernelspec": {
   "display_name": "base",
   "language": "python",
   "name": "python3"
  },
  "language_info": {
   "codemirror_mode": {
    "name": "ipython",
    "version": 3
   },
   "file_extension": ".py",
   "mimetype": "text/x-python",
   "name": "python",
   "nbconvert_exporter": "python",
   "pygments_lexer": "ipython3",
   "version": "3.11.4"
  },
  "orig_nbformat": 4
 },
 "nbformat": 4,
 "nbformat_minor": 2
}
